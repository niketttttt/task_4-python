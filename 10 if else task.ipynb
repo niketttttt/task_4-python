{
 "cells": [
  {
   "cell_type": "markdown",
   "id": "888782ad-2da8-4785-bf24-bc69a56b0659",
   "metadata": {},
   "source": [
    "# 10 if else statement\n",
    "\n",
    "# 1)"
   ]
  },
  {
   "cell_type": "code",
   "execution_count": 2,
   "id": "a492873d-6f57-491b-a5f3-c38587dbd825",
   "metadata": {},
   "outputs": [
    {
     "name": "stdin",
     "output_type": "stream",
     "text": [
      "enter use value you 67\n"
     ]
    },
    {
     "name": "stdout",
     "output_type": "stream",
     "text": [
      "b is not greater than a\n"
     ]
    }
   ],
   "source": [
    "uservalue = input('enter use value you')\n",
    "\n",
    "a = 200\n",
    "b = 33\n",
    "if b > a:\n",
    "  print(\"b is greater than a\")\n",
    "else:\n",
    "  print(\"b is not greater than a\")\n"
   ]
  },
  {
   "cell_type": "markdown",
   "id": "90776895-de48-4155-aeaa-c16a557c1727",
   "metadata": {},
   "source": [
    "# 2)"
   ]
  },
  {
   "cell_type": "code",
   "execution_count": 30,
   "id": "4e31b8c0-1e4a-4ba2-90f7-60f7335ff14d",
   "metadata": {},
   "outputs": [
    {
     "name": "stdin",
     "output_type": "stream",
     "text": [
      "enter car price 100000\n"
     ]
    },
    {
     "name": "stdout",
     "output_type": "stream",
     "text": [
      "100000\n",
      "low price\n"
     ]
    }
   ],
   "source": [
    "a = input('enter car price')\n",
    "print(a)\n",
    "\n",
    "if int(a) > 500000:\n",
    "    print('hight price')\n",
    "else :\n",
    "    print('low price')\n",
    "\n"
   ]
  },
  {
   "cell_type": "markdown",
   "id": "113f841f-5acc-4242-910e-92cad5632c8a",
   "metadata": {},
   "source": [
    "# 3) "
   ]
  },
  {
   "cell_type": "code",
   "execution_count": 4,
   "id": "8472f20d-c80a-4a31-a263-f5e21293dcc8",
   "metadata": {},
   "outputs": [
    {
     "name": "stdin",
     "output_type": "stream",
     "text": [
      "enter product price sugar\n"
     ]
    },
    {
     "name": "stdout",
     "output_type": "stream",
     "text": [
      "sugar\n",
      "not available\n"
     ]
    }
   ],
   "source": [
    "b = input('enter product price')\n",
    "print(b)\n",
    "\n",
    "\n",
    "if b == 'milk':\n",
    "     print('available')\n",
    "else:\n",
    "    print('not available')\n"
   ]
  },
  {
   "cell_type": "markdown",
   "id": "d79b8f9a-fc21-4628-a04a-31134a7cfb0d",
   "metadata": {},
   "source": [
    "# 4) elif"
   ]
  },
  {
   "cell_type": "code",
   "execution_count": 26,
   "id": "e4397c9c-b8fa-4bf2-98b0-1430a14fef3e",
   "metadata": {},
   "outputs": [
    {
     "name": "stdin",
     "output_type": "stream",
     "text": [
      "how old you are 9\n"
     ]
    },
    {
     "name": "stdout",
     "output_type": "stream",
     "text": [
      "9\n",
      "teenger\n"
     ]
    }
   ],
   "source": [
    "useage = input('how old you are')\n",
    "print(useage)\n",
    "\n",
    "if int(useage) > 50:\n",
    "      print('old men')\n",
    "elif int(useage) > 18:\n",
    "      print('adult')\n",
    "else:\n",
    "      print('teenger')"
   ]
  },
  {
   "cell_type": "markdown",
   "id": "25d85e59-9959-4e95-9390-e451978ccc11",
   "metadata": {},
   "source": [
    "# 5)"
   ]
  },
  {
   "cell_type": "code",
   "execution_count": 29,
   "id": "4cc4ff94-351b-4208-b98f-b9a99f80a2bd",
   "metadata": {},
   "outputs": [
    {
     "name": "stdout",
     "output_type": "stream",
     "text": [
      "a and b are equal\n"
     ]
    }
   ],
   "source": [
    "\n",
    "a = 55\n",
    "b = 55\n",
    "if b > a:\n",
    "  print(\"b is greater than a\")\n",
    "elif a == b:\n",
    "  print(\"a and b are equal\")"
   ]
  },
  {
   "cell_type": "markdown",
   "id": "951653c6-6866-49d8-aaa2-3d0158662296",
   "metadata": {},
   "source": [
    "# 6)"
   ]
  },
  {
   "cell_type": "code",
   "execution_count": 53,
   "id": "adf46ae0-2465-40b4-991b-ee4fcf236652",
   "metadata": {},
   "outputs": [
    {
     "name": "stdin",
     "output_type": "stream",
     "text": [
      "enter the city name deli\n"
     ]
    },
    {
     "name": "stdout",
     "output_type": "stream",
     "text": [
      "deli\n",
      "not maharastra state\n"
     ]
    }
   ],
   "source": [
    "city = input('enter the city name')\n",
    "print(city)\n",
    "\n",
    "if city == 'nagpur':\n",
    "     print('maharastra')\n",
    "else:\n",
    "     print('not maharastra state')"
   ]
  },
  {
   "cell_type": "markdown",
   "id": "ce587b0d-fb8a-420a-b0f2-47b4b4b96b00",
   "metadata": {},
   "source": [
    "# 7)"
   ]
  },
  {
   "cell_type": "code",
   "execution_count": 60,
   "id": "75cb45e7-aa5a-4646-a7b6-82660c6fcccf",
   "metadata": {},
   "outputs": [
    {
     "name": "stdout",
     "output_type": "stream",
     "text": [
      "a is greater than b\n"
     ]
    }
   ],
   "source": [
    "a = 50\n",
    "b = 40\n",
    "\n",
    "if a > b:\n",
    "    print(\"a is greater than b\")"
   ]
  },
  {
   "cell_type": "code",
   "execution_count": null,
   "id": "075c7957-177d-4b32-9d57-06205637b601",
   "metadata": {},
   "outputs": [],
   "source": []
  }
 ],
 "metadata": {
  "kernelspec": {
   "display_name": "Python 3 (ipykernel)",
   "language": "python",
   "name": "python3"
  },
  "language_info": {
   "codemirror_mode": {
    "name": "ipython",
    "version": 3
   },
   "file_extension": ".py",
   "mimetype": "text/x-python",
   "name": "python",
   "nbconvert_exporter": "python",
   "pygments_lexer": "ipython3",
   "version": "3.12.4"
  }
 },
 "nbformat": 4,
 "nbformat_minor": 5
}
