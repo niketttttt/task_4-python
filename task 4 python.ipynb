{
 "cells": [
  {
   "cell_type": "markdown",
   "id": "66498542-418d-431c-b10f-6c79dee9da31",
   "metadata": {},
   "source": [
    "## complete the example of 8 dictionary function / method"
   ]
  },
  {
   "cell_type": "markdown",
   "id": "1d4dbd81-9d56-4616-a864-417ae56f46bd",
   "metadata": {},
   "source": [
    "# 1) pop()\n",
    "\n",
    "* The pop() method removes the specified item from the dictionary.\n",
    "* \r\n",
    "The value of the removed item is the return value of the pop() meth\n",
    "* https://www.w3schools.com/python/ref_dictionary_pop.aspod"
   ]
  },
  {
   "cell_type": "code",
   "execution_count": 36,
   "id": "3c6a3e6c-16df-49fa-9b6d-c58b5303fb40",
   "metadata": {},
   "outputs": [],
   "source": [
    "w1 = {\n",
    "    'id' : 12345,\n",
    "    'name' : 'suraj',\n",
    "     'pass year' : 2024,\n",
    "      'degree' : 'BE'\n",
    "}\n",
    "    "
   ]
  },
  {
   "cell_type": "code",
   "execution_count": 38,
   "id": "c17b6c15-54a7-49cf-97bc-a825495eb470",
   "metadata": {},
   "outputs": [
    {
     "data": {
      "text/plain": [
       "2024"
      ]
     },
     "execution_count": 38,
     "metadata": {},
     "output_type": "execute_result"
    }
   ],
   "source": [
    "w1.pop('pass year')"
   ]
  },
  {
   "cell_type": "code",
   "execution_count": 40,
   "id": "3e1dba24-b395-4b0c-ac7c-f5a1a9a124c0",
   "metadata": {},
   "outputs": [
    {
     "data": {
      "text/plain": [
       "{'id': 12345, 'name': 'suraj', 'degree': 'BE'}"
      ]
     },
     "execution_count": 40,
     "metadata": {},
     "output_type": "execute_result"
    }
   ],
   "source": [
    "w1"
   ]
  },
  {
   "cell_type": "markdown",
   "id": "4e565089-0870-4f73-aa48-29cc634e9b27",
   "metadata": {},
   "source": [
    "# 2) value()\n",
    "\n",
    "* The values() method returns a view object. The view object contains the values of the dictionary, as a list.\n",
    "* \r\n",
    "The view object will reflect any changes done to the dictiona\n",
    "* https://www.w3schools.com/python/ref_dictionary_values.aspw.\r\n",
    "\r\n"
   ]
  },
  {
   "cell_type": "code",
   "execution_count": 46,
   "id": "8ae07ecf-f312-475a-b905-b39b577622e7",
   "metadata": {},
   "outputs": [],
   "source": [
    "country = {\n",
    "          'maharastra' : 'mumbai',\n",
    "          'telangana' : 'hyderabad',\n",
    "         'gujarat' : 'surat',\n",
    "         'rajthan' : 'jaipur',\n",
    "         'west bangola' : 'kolakata'\n",
    "}\n"
   ]
  },
  {
   "cell_type": "code",
   "execution_count": 52,
   "id": "994093b8-b5df-4593-ba0b-fcd2baae20e3",
   "metadata": {},
   "outputs": [
    {
     "data": {
      "text/plain": [
       "dict_values(['mumbai', 'hyderabad', 'surat', 'jaipur', 'kolakata'])"
      ]
     },
     "execution_count": 52,
     "metadata": {},
     "output_type": "execute_result"
    }
   ],
   "source": [
    "country.values()"
   ]
  },
  {
   "cell_type": "markdown",
   "id": "84b7cf0d-11fa-4b1e-8f24-f2968e93b963",
   "metadata": {},
   "source": [
    "# 3) Get()\n",
    "\n",
    "* The get() method returns the value of the item with the specified key.\n",
    "* https://www.w3schools.com/python/ref_dictionary_get.asp"
   ]
  },
  {
   "cell_type": "code",
   "execution_count": 57,
   "id": "ffc1905b-1e11-4583-a474-dd7eb68d4ae3",
   "metadata": {},
   "outputs": [],
   "source": [
    "w4 ={\n",
    "    'id' : 12345,\n",
    "    'name' : 'suraj',\n",
    "     'pass year' : 2024,\n",
    "      'degree' : 'BE'\n",
    "}"
   ]
  },
  {
   "cell_type": "code",
   "execution_count": 59,
   "id": "7babe7e0-8d4b-43d1-838d-82ecb3621309",
   "metadata": {},
   "outputs": [
    {
     "data": {
      "text/plain": [
       "'suraj'"
      ]
     },
     "execution_count": 59,
     "metadata": {},
     "output_type": "execute_result"
    }
   ],
   "source": [
    "w4.get('name')"
   ]
  },
  {
   "cell_type": "markdown",
   "id": "d48c7159-15e2-42e8-981d-582f5b69998a",
   "metadata": {},
   "source": [
    "# 4) Item()\n",
    "\n",
    "* The items() method returns a view object. The view object contains the key-value pairs of the dictionary, as tuples in a list.\n",
    "* \r\n",
    "The view object will reflect any changes done to the dictiona\n",
    "* https://www.w3schools.com/python/ref_dictionary_items.aspy,"
   ]
  },
  {
   "cell_type": "code",
   "execution_count": 65,
   "id": "23b87c76-c3f7-4e0a-ba1a-109708524cf2",
   "metadata": {},
   "outputs": [],
   "source": [
    "country = {\n",
    "          'maharastra' : 'mumbai',\n",
    "          'telangana' : 'hyderabad',\n",
    "         'gujarat' : 'surat',\n",
    "         'rajthan' : 'jaipur',\n",
    "         'west bangola' : 'kolakata'\n",
    "}"
   ]
  },
  {
   "cell_type": "code",
   "execution_count": 69,
   "id": "ac2925df-b6aa-49ab-a61b-4633986cd763",
   "metadata": {},
   "outputs": [
    {
     "data": {
      "text/plain": [
       "dict_items([('maharastra', 'mumbai'), ('telangana', 'hyderabad'), ('gujarat', 'surat'), ('rajthan', 'jaipur'), ('west bangola', 'kolakata')])"
      ]
     },
     "execution_count": 69,
     "metadata": {},
     "output_type": "execute_result"
    }
   ],
   "source": [
    "country.items()"
   ]
  },
  {
   "cell_type": "markdown",
   "id": "82d662b8-d365-4f8a-a0d1-d9ec92a189ad",
   "metadata": {},
   "source": [
    "# 5) popitem()\n",
    "\n",
    "* The popitem() method removes the item that was last inserted into the dictionary.\n",
    "* the popitem() method removes a random item.\n",
    "* https://www.w3schools.com/python/ref_dictionary_popitem.asp"
   ]
  },
  {
   "cell_type": "code",
   "execution_count": 74,
   "id": "345ee672-faa2-4243-8f54-63628a4fc523",
   "metadata": {},
   "outputs": [],
   "source": [
    "car = {\n",
    "  \"brand\": \"Ford\",\n",
    "  \"model\": \"Mustang\",\n",
    "  \"year\": 1964\n",
    "}\n"
   ]
  },
  {
   "cell_type": "code",
   "execution_count": 76,
   "id": "1d17a0e9-c6ca-4be0-98ca-2fb9a20449a2",
   "metadata": {},
   "outputs": [
    {
     "data": {
      "text/plain": [
       "('year', 1964)"
      ]
     },
     "execution_count": 76,
     "metadata": {},
     "output_type": "execute_result"
    }
   ],
   "source": [
    "car.popitem()"
   ]
  },
  {
   "cell_type": "code",
   "execution_count": 78,
   "id": "107ce139-c476-47b3-87cb-014f32a734bb",
   "metadata": {},
   "outputs": [
    {
     "data": {
      "text/plain": [
       "{'brand': 'Ford', 'model': 'Mustang'}"
      ]
     },
     "execution_count": 78,
     "metadata": {},
     "output_type": "execute_result"
    }
   ],
   "source": [
    "car"
   ]
  },
  {
   "cell_type": "markdown",
   "id": "e76eadfa-e3e5-4392-af75-886a886fec09",
   "metadata": {},
   "source": [
    "# 6) Setdefault()\n",
    "* The setdefault() method returns the value of the item with the specified key.\n",
    "* \r\n",
    "If the key does not exist, insert the key, with the specified val\n",
    "* https://www.w3schools.com/python/ref_dictionary_setdefault.aspue"
   ]
  },
  {
   "cell_type": "code",
   "execution_count": 82,
   "id": "70c6c500-2e8d-49eb-9d37-922a573df66f",
   "metadata": {},
   "outputs": [],
   "source": [
    " w6 ={\n",
    "     'id' : 12345,\n",
    "    'name' : 'suraj',\n",
    "     'pass year' : 2024,\n",
    "      'degree' : 'BE'\n",
    " }"
   ]
  },
  {
   "cell_type": "code",
   "execution_count": 88,
   "id": "b222302c-e682-4681-895c-9ca569e7449a",
   "metadata": {},
   "outputs": [
    {
     "data": {
      "text/plain": [
       "'suraj'"
      ]
     },
     "execution_count": 88,
     "metadata": {},
     "output_type": "execute_result"
    }
   ],
   "source": [
    "w6.setdefault('name', 'khushi')"
   ]
  },
  {
   "cell_type": "code",
   "execution_count": 90,
   "id": "1debdeee-cb71-489b-af76-85cdb5ae03e3",
   "metadata": {},
   "outputs": [
    {
     "data": {
      "text/plain": [
       "{'id': 12345, 'name': 'suraj', 'pass year': 2024, 'degree': 'BE'}"
      ]
     },
     "execution_count": 90,
     "metadata": {},
     "output_type": "execute_result"
    }
   ],
   "source": [
    "w6"
   ]
  },
  {
   "cell_type": "markdown",
   "id": "943122b8-fa21-4acb-a6bd-3d384b720d3e",
   "metadata": {},
   "source": [
    "# 7) Update()\n",
    "\n",
    "* The update() method inserts the specified items to the dictionary.\n",
    "* an iterable object with key value pairs.\n",
    "* https://www.w3schools.com/python/ref_dictionary_update.asp\r\n"
   ]
  },
  {
   "cell_type": "code",
   "execution_count": 118,
   "id": "691a1353-fc8f-4f36-a4ea-da39dcc19765",
   "metadata": {},
   "outputs": [],
   "source": [
    "w7 = {\n",
    "    'name' : 'ravi',\n",
    "    'age' : 24,\n",
    "    'gendar' : 'male',\n",
    "    'birth date' : '2-7-2000'\n",
    "}"
   ]
  },
  {
   "cell_type": "code",
   "execution_count": 120,
   "id": "2e43a4ac-0598-49e9-ab23-811012a255bb",
   "metadata": {},
   "outputs": [],
   "source": [
    "w7.update({'birth date' :'3-8-2008'})"
   ]
  },
  {
   "cell_type": "code",
   "execution_count": 122,
   "id": "cd256f79-26ae-4f96-90af-f24eda5c934c",
   "metadata": {},
   "outputs": [
    {
     "data": {
      "text/plain": [
       "{'name': 'ravi', 'age': 24, 'gendar': 'male', 'birth date': '3-8-2008'}"
      ]
     },
     "execution_count": 122,
     "metadata": {},
     "output_type": "execute_result"
    }
   ],
   "source": [
    "w7"
   ]
  },
  {
   "cell_type": "markdown",
   "id": "bb47e3e3-a90f-49bf-85a0-3f9766e8ac9a",
   "metadata": {},
   "source": [
    "# 8) fromkeys\n",
    "\n",
    "\n",
    "* The fromkeys() method returns a dictionary with the specified keys and the specified value.\n",
    "* https://www.w3schools.com/python/ref_dictionary_fromkeys.asp"
   ]
  },
  {
   "cell_type": "code",
   "execution_count": 140,
   "id": "ae3e1680-191f-48b2-ad20-f701fef5cb28",
   "metadata": {},
   "outputs": [],
   "source": [
    "w9 = {'1', '2', '3', '4', '5'}\n",
    "animal = 'tiger'\n",
    "\n"
   ]
  },
  {
   "cell_type": "code",
   "execution_count": 142,
   "id": "c93296a7-ef9e-4203-92d7-c5733adf1e3f",
   "metadata": {},
   "outputs": [],
   "source": [
    "tigers = dict.fromkeys(w9, animal)\n"
   ]
  },
  {
   "cell_type": "code",
   "execution_count": 148,
   "id": "90575067-473d-4651-a3d5-ab6e433d9e6e",
   "metadata": {},
   "outputs": [
    {
     "data": {
      "text/plain": [
       "{'2': 'tiger', '5': 'tiger', '3': 'tiger', '1': 'tiger', '4': 'tiger'}"
      ]
     },
     "execution_count": 148,
     "metadata": {},
     "output_type": "execute_result"
    }
   ],
   "source": [
    "tigers"
   ]
  },
  {
   "cell_type": "code",
   "execution_count": null,
   "id": "a8a41dda-7037-425d-b703-9dfd2659dce3",
   "metadata": {},
   "outputs": [],
   "source": []
  }
 ],
 "metadata": {
  "kernelspec": {
   "display_name": "Python 3 (ipykernel)",
   "language": "python",
   "name": "python3"
  },
  "language_info": {
   "codemirror_mode": {
    "name": "ipython",
    "version": 3
   },
   "file_extension": ".py",
   "mimetype": "text/x-python",
   "name": "python",
   "nbconvert_exporter": "python",
   "pygments_lexer": "ipython3",
   "version": "3.12.4"
  }
 },
 "nbformat": 4,
 "nbformat_minor": 5
}
